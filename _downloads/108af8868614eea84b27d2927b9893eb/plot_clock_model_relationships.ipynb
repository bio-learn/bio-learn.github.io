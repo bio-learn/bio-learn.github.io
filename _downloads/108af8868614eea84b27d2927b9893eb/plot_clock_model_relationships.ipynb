{
  "cells": [
    {
      "cell_type": "markdown",
      "metadata": {},
      "source": [
        "\n# Clock/model visualizations using GEO datasets\n\nThis example demonstrates the built-in aging clock/model function to visualize \ndifferent plots on clock(s)/model(s) predictions.\n"
      ]
    },
    {
      "cell_type": "markdown",
      "metadata": {},
      "source": [
        "## Import required classes and functions\n\n"
      ]
    },
    {
      "cell_type": "code",
      "execution_count": null,
      "metadata": {
        "collapsed": false
      },
      "outputs": [],
      "source": [
        "from biolearn.data_library import DataLibrary\nfrom biolearn.model_gallery import ModelGallery\nfrom biolearn.visualize import (\n    plot_clock_correlation_matrix,\n    plot_clock_deviation_heatmap,\n    plot_age_prediction,\n    plot_health_outcome\n)"
      ]
    },
    {
      "cell_type": "markdown",
      "metadata": {},
      "source": [
        "## Visualize a correlation matrix across aging clocks/models\n\n"
      ]
    },
    {
      "cell_type": "code",
      "execution_count": null,
      "metadata": {
        "collapsed": false
      },
      "outputs": [],
      "source": [
        "# Load an appropriate GEO dataset for the models\ndata = DataLibrary().get(\"GSE120307\").load()\n\n# Create a list of ModelGallery objects to be analyzed.\nmodelnames = [\"Horvathv1\", \"Hannum\", \"PhenoAge\", \"DunedinPACE\", \"Lin\", \"Zhang_10\"]\nmodels = [ModelGallery().get(names) for names in modelnames]\n\nplot_clock_correlation_matrix(\n    models=models,\n    data=data,\n)"
      ]
    },
    {
      "cell_type": "markdown",
      "metadata": {},
      "source": [
        "## Visualize clock/model chronological age deviations across samples in a heatmap\n\n"
      ]
    },
    {
      "cell_type": "code",
      "execution_count": null,
      "metadata": {
        "collapsed": false
      },
      "outputs": [],
      "source": [
        "plot_clock_deviation_heatmap(\n    models=models,\n    data=data,\n)"
      ]
    },
    {
      "cell_type": "markdown",
      "metadata": {},
      "source": [
        "## Visualize aging clock/model predictions against chronological age\n\n"
      ]
    },
    {
      "cell_type": "code",
      "execution_count": null,
      "metadata": {
        "collapsed": false
      },
      "outputs": [],
      "source": [
        "# Use appropriate clocks/models\nmodelnames = [\"Horvathv1\", \"Hannum\", \"PhenoAge\", \"Lin\"]\nage_prediction_models = [ModelGallery().get(name) for name in modelnames]\n\nplot_age_prediction(\n    models=age_prediction_models,\n    data=data,\n)"
      ]
    },
    {
      "cell_type": "markdown",
      "metadata": {},
      "source": [
        "## Visualize model predictions against its corresponding health outcome\n\n"
      ]
    },
    {
      "cell_type": "code",
      "execution_count": null,
      "metadata": {
        "collapsed": false
      },
      "outputs": [],
      "source": [
        "# Load an appropriate GEO dataset for the corresponding model\ndown_syndrome_data = DataLibrary().get(\"GSE52588\").load()\n\nmodel = [ModelGallery().get(\"DownSyndrome\")]\n\nplot_health_outcome(\n    models=model,\n    data=down_syndrome_data,\n    # Provide the health outcome column name\n    health_outcome_col=\"disease_state\",\n)"
      ]
    }
  ],
  "metadata": {
    "kernelspec": {
      "display_name": "Python 3",
      "language": "python",
      "name": "python3"
    },
    "language_info": {
      "codemirror_mode": {
        "name": "ipython",
        "version": 3
      },
      "file_extension": ".py",
      "mimetype": "text/x-python",
      "name": "python",
      "nbconvert_exporter": "python",
      "pygments_lexer": "ipython3",
      "version": "3.11.4"
    }
  },
  "nbformat": 4,
  "nbformat_minor": 0
}