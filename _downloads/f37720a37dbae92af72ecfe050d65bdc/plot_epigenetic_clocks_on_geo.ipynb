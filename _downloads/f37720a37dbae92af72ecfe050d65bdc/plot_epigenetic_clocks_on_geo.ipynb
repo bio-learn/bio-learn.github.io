{
  "cells": [
    {
      "cell_type": "markdown",
      "metadata": {},
      "source": [
        "\n# \"Epigenetic Clocks\" in GEO Data\n\nThis example loads a DNA Methylation data from GEO, calculates multiple epigenetic clocks, and plots them against chronological age. \n"
      ]
    },
    {
      "cell_type": "markdown",
      "metadata": {},
      "source": [
        "## First load up some methylation data from GEO using the data library\n\n"
      ]
    },
    {
      "cell_type": "code",
      "execution_count": null,
      "metadata": {
        "collapsed": false
      },
      "outputs": [],
      "source": [
        "from biolearn.data_library import DataLibrary\n#Load up GSE41169 blood DNAm data\ndata_source = DataLibrary().get(\"GSE41169\")\ndata=data_source.load()"
      ]
    },
    {
      "cell_type": "markdown",
      "metadata": {},
      "source": [
        "## Now run three different clocks on the dataset to produce epigenetic clock ages\n\n"
      ]
    },
    {
      "cell_type": "code",
      "execution_count": null,
      "metadata": {
        "collapsed": false
      },
      "outputs": [],
      "source": [
        "from biolearn.model_gallery import ModelGallery\ngallery = ModelGallery()\n#Note that by default clocks will impute missing data.\n#To change this behavior set the imputation= parameter when getting the clock\nhorvath_results = gallery.get(\"Horvathv1\").predict(data)\nhannum_results = gallery.get(\"Hannum\").predict(data)\nphenoage_results = gallery.get(\"PhenoAge\").predict(data)"
      ]
    },
    {
      "cell_type": "markdown",
      "metadata": {},
      "source": [
        "## Finally exctract the age data from the metadata from GEO and plot the results using seaborn\n\n"
      ]
    },
    {
      "cell_type": "code",
      "execution_count": null,
      "metadata": {
        "collapsed": false
      },
      "outputs": [],
      "source": [
        "import seaborn as sn\nimport pandas as pd\n\nactual_age = data.metadata['age']\nplot_data = pd.DataFrame({\n    'Horvath': horvath_results['Predicted'],\n    'Hannum': hannum_results['Predicted'],\n    'PhenoAge': phenoage_results['Predicted'],\n    \"Age\": actual_age\n})\nplot_data.index=plot_data['Age']\n\nsn.relplot(data=plot_data, kind=\"scatter\");"
      ]
    }
  ],
  "metadata": {
    "kernelspec": {
      "display_name": "Python 3",
      "language": "python",
      "name": "python3"
    },
    "language_info": {
      "codemirror_mode": {
        "name": "ipython",
        "version": 3
      },
      "file_extension": ".py",
      "mimetype": "text/x-python",
      "name": "python",
      "nbconvert_exporter": "python",
      "pygments_lexer": "ipython3",
      "version": "3.10.12"
    }
  },
  "nbformat": 4,
  "nbformat_minor": 0
}