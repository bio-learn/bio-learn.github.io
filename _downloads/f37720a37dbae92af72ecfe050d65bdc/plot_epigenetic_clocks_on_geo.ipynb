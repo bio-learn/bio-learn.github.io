{
  "cells": [
    {
      "cell_type": "markdown",
      "metadata": {},
      "source": [
        "\n# \"Epigenetic Clocks\" in GEO Data\n\nThis example loads a DNA Methylation data from GEO, calculates multiple epigenetic clocks, and plot them against chronological age. \n"
      ]
    },
    {
      "cell_type": "markdown",
      "metadata": {},
      "source": [
        "## Loading a DNAm GEO data\n\n"
      ]
    },
    {
      "cell_type": "code",
      "execution_count": null,
      "metadata": {
        "collapsed": false
      },
      "outputs": [],
      "source": [
        "from biolearn.data_library import DataLibrary\n#Load up GSE41169 blood DNAm data\ndata_source = DataLibrary().get(\"GSE41169\")\ndata=data_source.load()\n\n#The data has the methylation data as well as metadata for each subject\ndf = data.dnam"
      ]
    },
    {
      "cell_type": "markdown",
      "metadata": {},
      "source": [
        "## Calculate \"biological age\" based on Horvath, Hannum, and PhenoAge epigenetic clocks\n\n"
      ]
    },
    {
      "cell_type": "code",
      "execution_count": null,
      "metadata": {
        "collapsed": false
      },
      "outputs": [],
      "source": [
        "from biolearn.clock import horvathv1, hannum, phenoage\nhorvath_results = horvathv1(df)\nhannum_results = hannum(df)\nphenoage_results = phenoage(df)\n\nactual_age = data.metadata['age']"
      ]
    },
    {
      "cell_type": "markdown",
      "metadata": {},
      "source": [
        "## Plot biological ages against chronological age\n\n"
      ]
    },
    {
      "cell_type": "code",
      "execution_count": null,
      "metadata": {
        "collapsed": false
      },
      "outputs": [],
      "source": [
        "import seaborn as sn\nimport pandas as pd\nplot_data = pd.DataFrame({\n    'Horvath': horvath_results,\n    'Hannum': hannum_results,\n    'PhenoAge': phenoage_results,\n    \"Age\": actual_age\n})\nplot_data.index=plot_data['Age']\n\nsn.relplot(data=plot_data, kind=\"scatter\");"
      ]
    }
  ],
  "metadata": {
    "kernelspec": {
      "display_name": "Python 3",
      "language": "python",
      "name": "python3"
    },
    "language_info": {
      "codemirror_mode": {
        "name": "ipython",
        "version": 3
      },
      "file_extension": ".py",
      "mimetype": "text/x-python",
      "name": "python",
      "nbconvert_exporter": "python",
      "pygments_lexer": "ipython3",
      "version": "3.10.12"
    }
  },
  "nbformat": 4,
  "nbformat_minor": 0
}