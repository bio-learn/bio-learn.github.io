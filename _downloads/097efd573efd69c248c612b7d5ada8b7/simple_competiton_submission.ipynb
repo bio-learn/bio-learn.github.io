{
  "cells": [
    {
      "cell_type": "markdown",
      "metadata": {},
      "source": [
        "\n# Building a competition submission using an existing model\n\nThis example shows you how to generate a submission for the community warmup using an existing model\n"
      ]
    },
    {
      "cell_type": "markdown",
      "metadata": {},
      "source": [
        "## Loading up the data for the competition\n\n"
      ]
    },
    {
      "cell_type": "code",
      "execution_count": null,
      "metadata": {
        "collapsed": false
      },
      "outputs": [],
      "source": [
        "from biolearn.data_library import GeoData\n\n#Download the data file for the warmup challenge linked here https://www.synapse.org/#!Synapse:syn52966292/wiki/625231\nDOWNLOADED_DATA_FILE_PATH=\"ADD YOUR PATH HERE\"\nchallenge_data = GeoData.from_methylation_matrix(DOWNLOADED_DATA_FILE_PATH)\nchallenge_data"
      ]
    },
    {
      "cell_type": "markdown",
      "metadata": {},
      "source": [
        "## Use the Lin model to predict the age\n\n"
      ]
    },
    {
      "cell_type": "code",
      "execution_count": null,
      "metadata": {
        "collapsed": false
      },
      "outputs": [],
      "source": [
        "from biolearn.model_gallery import ModelGallery\n\n#Lin scored the best so lets use that\nresults = ModelGallery().get(\"Lin\").predict(challenge_data)\nresults"
      ]
    },
    {
      "cell_type": "markdown",
      "metadata": {},
      "source": [
        "Save a csv in the correct format for submission\n --------------------------------------------------------------------------------------------------------------------------\nNow we save this to a csv in the expected format. \n\n"
      ]
    },
    {
      "cell_type": "code",
      "execution_count": null,
      "metadata": {
        "collapsed": false
      },
      "outputs": [],
      "source": [
        "submission = results.rename_axis(\"sampleId\")\nsubmission = submission.rename(columns={\"Predicted\": \"predictedAge\"})\nsubmission.to_csv(\"lin_submission.csv\")\n#You can submit this file to the community warmup challenge by following the instructions below\nsubmission"
      ]
    }
  ],
  "metadata": {
    "kernelspec": {
      "display_name": "Python 3",
      "language": "python",
      "name": "python3"
    },
    "language_info": {
      "codemirror_mode": {
        "name": "ipython",
        "version": 3
      },
      "file_extension": ".py",
      "mimetype": "text/x-python",
      "name": "python",
      "nbconvert_exporter": "python",
      "pygments_lexer": "ipython3",
      "version": "3.11.4"
    }
  },
  "nbformat": 4,
  "nbformat_minor": 0
}