{
  "cells": [
    {
      "cell_type": "markdown",
      "metadata": {},
      "source": [
        "\n# Down Syndrome Epigenetic Plotting\n\nThis example loads a DNA Methylation data from GEO with down syndrome metadata and shows how the sameples can be distiguished with epigenetic data\n"
      ]
    },
    {
      "cell_type": "markdown",
      "metadata": {},
      "source": [
        "## First load up some methylation data from GEO using the data library\n\n"
      ]
    },
    {
      "cell_type": "code",
      "execution_count": null,
      "metadata": {
        "collapsed": false
      },
      "outputs": [],
      "source": [
        "from biolearn.data_library import DataLibrary\ntest_data = DataLibrary().get(\"GSE52588\").load()"
      ]
    },
    {
      "cell_type": "markdown",
      "metadata": {},
      "source": [
        "## Now run the down syndrome model on the data to get a score\n\n"
      ]
    },
    {
      "cell_type": "code",
      "execution_count": null,
      "metadata": {
        "collapsed": false
      },
      "outputs": [],
      "source": [
        "from biolearn.model_gallery import ModelGallery\nmodel = ModelGallery().get(\"DownSyndrome\")\nresults = model.predict(test_data)"
      ]
    },
    {
      "cell_type": "markdown",
      "metadata": {},
      "source": [
        "## Finally generate a boxplot to show the predictive power\n\n"
      ]
    },
    {
      "cell_type": "code",
      "execution_count": null,
      "metadata": {
        "collapsed": false
      },
      "outputs": [],
      "source": [
        "import matplotlib.pyplot as plt\nimport seaborn as sns\n\n# Set index for merging\nresults.set_index(results.index.astype(str), inplace=True)\ntest_data.metadata.set_index(test_data.metadata.index.astype(str), inplace=True)\n\n# Merge data\nmerged_data = results.join(test_data.metadata)\n\n# Plot settings\ncategory_order = ['healthy', 'Down syndrome']\npalette = {'healthy': 'green', 'Down syndrome': 'red'}\ntitle = 'Epigenetic Score'\n\n# Create and configure the plot\nplt.figure(figsize=(10, 6))\nax = sns.boxplot(x='disease_state', y='Predicted', data=merged_data, width=0.3, order=category_order)\nsns.stripplot(x='disease_state', y='Predicted', data=merged_data, jitter=True, palette=palette, order=category_order, hue='disease_state', dodge=False, legend=False)\nax.set_title(title)\nsns.despine()\nplt.show()"
      ]
    }
  ],
  "metadata": {
    "kernelspec": {
      "display_name": "Python 3",
      "language": "python",
      "name": "python3"
    },
    "language_info": {
      "codemirror_mode": {
        "name": "ipython",
        "version": 3
      },
      "file_extension": ".py",
      "mimetype": "text/x-python",
      "name": "python",
      "nbconvert_exporter": "python",
      "pygments_lexer": "ipython3",
      "version": "3.11.4"
    }
  },
  "nbformat": 4,
  "nbformat_minor": 0
}