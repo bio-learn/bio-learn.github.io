{
  "cells": [
    {
      "cell_type": "markdown",
      "metadata": {},
      "source": [
        "\n# Building a competition submission using an existing model\n\nThis example shows you how to generate a submission for the community warmup using an existing model\n"
      ]
    },
    {
      "cell_type": "markdown",
      "metadata": {},
      "source": [
        "## Loading up the data for the competition\n\n"
      ]
    },
    {
      "cell_type": "code",
      "execution_count": null,
      "metadata": {
        "collapsed": false
      },
      "outputs": [],
      "source": [
        "from biolearn.data_library import DataLibrary\n\nchallenge_data = DataLibrary().get(\"BoAChallengeData\").load()"
      ]
    },
    {
      "cell_type": "markdown",
      "metadata": {},
      "source": [
        "## The challenge data has methylation data\n\n"
      ]
    },
    {
      "cell_type": "code",
      "execution_count": null,
      "metadata": {
        "collapsed": false
      },
      "outputs": [],
      "source": [
        "import pandas as pd\npd.options.display.max_columns = 6\nchallenge_data.dnam"
      ]
    },
    {
      "cell_type": "markdown",
      "metadata": {},
      "source": [
        "## The challenge data also has proteomic data\n\n"
      ]
    },
    {
      "cell_type": "code",
      "execution_count": null,
      "metadata": {
        "collapsed": false
      },
      "outputs": [],
      "source": [
        "challenge_data.protein"
      ]
    },
    {
      "cell_type": "markdown",
      "metadata": {},
      "source": [
        "## You can learn more about what the protein identifies in our reference\n\n"
      ]
    },
    {
      "cell_type": "code",
      "execution_count": null,
      "metadata": {
        "collapsed": false
      },
      "outputs": [],
      "source": [
        "from biolearn.util import get_data_file\n\nreference = pd.read_csv(get_data_file(\"reference/alamar_reference.csv\"))\nreference"
      ]
    },
    {
      "cell_type": "markdown",
      "metadata": {},
      "source": [
        "## Some of the data overlaps while some does not but all the metadata is combined\n\n"
      ]
    },
    {
      "cell_type": "code",
      "execution_count": null,
      "metadata": {
        "collapsed": false
      },
      "outputs": [],
      "source": [
        "challenge_data.metadata"
      ]
    },
    {
      "cell_type": "markdown",
      "metadata": {},
      "source": [
        "## You can easily run several models on them\n\n"
      ]
    },
    {
      "cell_type": "code",
      "execution_count": null,
      "metadata": {
        "collapsed": false
      },
      "outputs": [],
      "source": [
        "from biolearn.mortality import run_predictions\n\nprediction_dict = {\n    \"Horvathv1\": \"Predicted\",\n    \"Hannum\": \"Predicted\"\n}\n\npredictions = run_predictions(challenge_data, prediction_dict)\npredictions"
      ]
    },
    {
      "cell_type": "markdown",
      "metadata": {},
      "source": [
        "## We can then compare the output from the two models\n\n"
      ]
    },
    {
      "cell_type": "code",
      "execution_count": null,
      "metadata": {
        "collapsed": false
      },
      "outputs": [],
      "source": [
        "import matplotlib.pyplot as plt\nimport seaborn as sns\n\n# Assuming your dataframe is named 'df'\n# df should have columns 'Horvathv1' and 'Hannum'\n\n# Create a scatter plot with a regression line\nplt.figure(figsize=(8, 6))\nsns.regplot(x='Horvathv1', y='Hannum', data=predictions, ci=None)\n\nplt.title('Scatter Plot with Regression Line')\nplt.xlabel('Horvathv1')\nplt.ylabel('Hannum')\nplt.grid(True)\nplt.show()"
      ]
    }
  ],
  "metadata": {
    "kernelspec": {
      "display_name": "Python 3",
      "language": "python",
      "name": "python3"
    },
    "language_info": {
      "codemirror_mode": {
        "name": "ipython",
        "version": 3
      },
      "file_extension": ".py",
      "mimetype": "text/x-python",
      "name": "python",
      "nbconvert_exporter": "python",
      "pygments_lexer": "ipython3",
      "version": "3.10.12"
    }
  },
  "nbformat": 4,
  "nbformat_minor": 0
}