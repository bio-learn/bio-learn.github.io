{
  "cells": [
    {
      "cell_type": "markdown",
      "metadata": {},
      "source": [
        "\n# Performing custom imputations\n\nThis example demonstrates the ease of custom imputation using the biolearn library.\n"
      ]
    },
    {
      "cell_type": "markdown",
      "metadata": {},
      "source": [
        "## Load methylation data from a GEO dataset to use as a reference for imputation\n\n"
      ]
    },
    {
      "cell_type": "code",
      "execution_count": null,
      "metadata": {
        "collapsed": false
      },
      "outputs": [],
      "source": [
        "from biolearn.data_library import DataLibrary\n\n# Load the reference dataset and compute averages for imputation\nreference_dataset = DataLibrary().get(\"GSE40279\").load()\nreference_averages = reference_dataset.dnam.mean(axis=1)"
      ]
    },
    {
      "cell_type": "markdown",
      "metadata": {},
      "source": [
        "## Load up a target dataset and run the imputation\n\n"
      ]
    },
    {
      "cell_type": "code",
      "execution_count": null,
      "metadata": {
        "collapsed": false
      },
      "outputs": [],
      "source": [
        "# Load a second dataset for imputation\ntarget_dataset = DataLibrary().get(\"GSE51057\").load()\n\n# Perform imputation using the reference averages\nfrom biolearn.imputation import impute_from_standard\nimputed_data = impute_from_standard(target_dataset.dnam, reference_averages)"
      ]
    },
    {
      "cell_type": "markdown",
      "metadata": {},
      "source": [
        "## Now run clock predictions on the dataset before and after\n\n"
      ]
    },
    {
      "cell_type": "code",
      "execution_count": null,
      "metadata": {
        "collapsed": false
      },
      "outputs": [],
      "source": [
        "# Using a model from the gallery, compare the epigenetic age before and after imputation\nfrom biolearn.model_gallery import ModelGallery\nclock_model = ModelGallery().get(\"Horvathv1\")\n\noriginal_age_predictions = clock_model.predict(target_dataset.dnam)\nimputed_age_predictions = clock_model.predict(imputed_data)"
      ]
    },
    {
      "cell_type": "markdown",
      "metadata": {},
      "source": [
        "## Visualize the comparison of age predictions\n\n"
      ]
    },
    {
      "cell_type": "code",
      "execution_count": null,
      "metadata": {
        "collapsed": false
      },
      "outputs": [],
      "source": [
        "import seaborn as sns\nimport pandas as pd\nimport matplotlib.pyplot as plt\n\n# Prepare data for visualization\ncomparison_data = pd.DataFrame({\n    'Original': original_age_predictions,\n    'Imputed': imputed_age_predictions\n})\n\n# Create a scatter plot to compare the results\nplt.figure(figsize=(8, 6))\nsns.scatterplot(x='Original', y='Imputed', data=comparison_data)\nplt.title(\"Comparison of Epigenetic Age Predictions: Original vs Imputed\")\nplt.xlabel(\"Original Age Predictions\")\nplt.ylabel(\"Imputed Age Predictions\")\nplt.grid(True)\nplt.show()"
      ]
    },
    {
      "cell_type": "markdown",
      "metadata": {},
      "source": [
        "## You can also build an imputation decorator to bundle with the clock\n\n"
      ]
    },
    {
      "cell_type": "code",
      "execution_count": null,
      "metadata": {
        "collapsed": false
      },
      "outputs": [],
      "source": [
        "from biolearn.model import ImputationDecorator\n\n# Define a custom imputation method using reference averages\ndef custom_impute_method(dnam_data, needed_cpgs):\n    return impute_from_standard(dnam_data, reference_averages, needed_cpgs)\n\n# Wrap the clock model with the imputation decorator\ndecorated_clock = ImputationDecorator(clock_model, custom_impute_method)"
      ]
    },
    {
      "cell_type": "markdown",
      "metadata": {},
      "source": [
        "## You get the same results as running the function directly on your dataset\n\n"
      ]
    },
    {
      "cell_type": "code",
      "execution_count": null,
      "metadata": {
        "collapsed": false
      },
      "outputs": [],
      "source": [
        "# Predict epigenetic age using the decorated clock (with imputation)\ndecorated_clock_predictions = decorated_clock.predict(target_dataset.dnam)\n\n# Verify that the results are the same as the direct imputation approach\nsame_results = all(decorated_clock_predictions == imputed_age_predictions)\nprint(same_results)"
      ]
    }
  ],
  "metadata": {
    "kernelspec": {
      "display_name": "Python 3",
      "language": "python",
      "name": "python3"
    },
    "language_info": {
      "codemirror_mode": {
        "name": "ipython",
        "version": 3
      },
      "file_extension": ".py",
      "mimetype": "text/x-python",
      "name": "python",
      "nbconvert_exporter": "python",
      "pygments_lexer": "ipython3",
      "version": "3.10.12"
    }
  },
  "nbformat": 4,
  "nbformat_minor": 0
}