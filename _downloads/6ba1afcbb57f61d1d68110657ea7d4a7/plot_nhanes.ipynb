{
  "cells": [
    {
      "cell_type": "markdown",
      "metadata": {},
      "source": [
        "\n# \"Phenotypic Ages\" in NHANES Data\n\nThis example loads blood exam data from NHANES 2010, calculates \"Phenotypic Ages,\" and performs survival analyses by phenotypic age. \n"
      ]
    },
    {
      "cell_type": "markdown",
      "metadata": {},
      "source": [
        "## Loading NHANES 2010 data\n\n"
      ]
    },
    {
      "cell_type": "code",
      "execution_count": null,
      "metadata": {
        "collapsed": false
      },
      "outputs": [],
      "source": [
        "from biolearn.load import load_nhanes \nyear = 2010\ndf = load_nhanes(year)\ndf[\"years_until_death\"] = df[\"months_until_death\"] / 12"
      ]
    },
    {
      "cell_type": "markdown",
      "metadata": {},
      "source": [
        "## Calculate \"biological age\" based on PhenotypicAge\n\n"
      ]
    },
    {
      "cell_type": "code",
      "execution_count": null,
      "metadata": {
        "collapsed": false
      },
      "outputs": [],
      "source": [
        "from biolearn.hematology import phenotypic_age\ndf[\"phenotypic_age\"]=phenotypic_age(df)"
      ]
    },
    {
      "cell_type": "markdown",
      "metadata": {},
      "source": [
        "## Show relation between biological age and chronological age\n\n"
      ]
    },
    {
      "cell_type": "code",
      "execution_count": null,
      "metadata": {
        "collapsed": false
      },
      "outputs": [],
      "source": [
        "import seaborn as sn\nsn.scatterplot(data=df,x=\"age\", y=\"phenotypic_age\",s=2);"
      ]
    },
    {
      "cell_type": "markdown",
      "metadata": {},
      "source": [
        "## Plot survival curve for people with accelerated aging (older biological age) vs decelerated aging (younger biological age)\n\n"
      ]
    },
    {
      "cell_type": "code",
      "execution_count": null,
      "metadata": {
        "collapsed": false
      },
      "outputs": [],
      "source": [
        "import matplotlib.pyplot as plt\nfrom lifelines import KaplanMeierFitter\ndf[\"biologically_older\"] = df[\"phenotypic_age\"] > df[\"age\"]\nax = plt.subplot()\ngroups = df[\"biologically_older\"]\nix = groups == 0\nT = df.years_until_death\nE = df.is_dead\nkmf = KaplanMeierFitter()\nkmf.fit(T[ix], E[ix], label=\"Biologically younger\")\nax = kmf.plot_survival_function(ax=ax)\nkmf.fit(T[~ix], E[~ix], label=\"Biologically older\")\nax = kmf.plot_survival_function()\nplt.ylabel(\"Survival\")\nplt.xlabel(\"Years\");"
      ]
    }
  ],
  "metadata": {
    "kernelspec": {
      "display_name": "Python 3",
      "language": "python",
      "name": "python3"
    },
    "language_info": {
      "codemirror_mode": {
        "name": "ipython",
        "version": 3
      },
      "file_extension": ".py",
      "mimetype": "text/x-python",
      "name": "python",
      "nbconvert_exporter": "python",
      "pygments_lexer": "ipython3",
      "version": "3.11.4"
    }
  },
  "nbformat": 4,
  "nbformat_minor": 0
}