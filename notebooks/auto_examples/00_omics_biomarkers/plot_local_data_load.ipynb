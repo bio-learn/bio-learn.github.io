{
  "cells": [
    {
      "cell_type": "markdown",
      "metadata": {},
      "source": [
        "\n# Local Data Loading\n\nThis example loads data from a local file\n"
      ]
    },
    {
      "cell_type": "markdown",
      "metadata": {},
      "source": [
        "## Load up a local data file\n\n"
      ]
    },
    {
      "cell_type": "code",
      "execution_count": null,
      "metadata": {
        "collapsed": false
      },
      "outputs": [],
      "source": [
        "from biolearn.data_library import GeoData\nfrom biolearn.util import get_test_data_file\n\n#Files formatted as described in the standard https://bio-learn.github.io/methylation-standard.html will load correctly. \n\nfile_path = get_test_data_file(\"example_data.csv\")\ndata = GeoData.from_methylation_matrix(file_path)\n\ndata.dnam"
      ]
    },
    {
      "cell_type": "markdown",
      "metadata": {},
      "source": [
        "## You can now use it like any other Biolearn dataset\n\n"
      ]
    },
    {
      "cell_type": "code",
      "execution_count": null,
      "metadata": {
        "collapsed": false
      },
      "outputs": [],
      "source": [
        "data.quality_report().show()"
      ]
    }
  ],
  "metadata": {
    "kernelspec": {
      "display_name": "Python 3",
      "language": "python",
      "name": "python3"
    },
    "language_info": {
      "codemirror_mode": {
        "name": "ipython",
        "version": 3
      },
      "file_extension": ".py",
      "mimetype": "text/x-python",
      "name": "python",
      "nbconvert_exporter": "python",
      "pygments_lexer": "ipython3",
      "version": "3.10.12"
    }
  },
  "nbformat": 4,
  "nbformat_minor": 0
}