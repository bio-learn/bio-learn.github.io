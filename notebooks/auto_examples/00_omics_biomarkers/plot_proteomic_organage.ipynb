{
  "cells": [
    {
      "cell_type": "markdown",
      "metadata": {},
      "source": [
        "\n# Proteomic Organ Age Clock\nThis example loads proteomic data and runs it through the OrganAge clock\n"
      ]
    },
    {
      "cell_type": "markdown",
      "metadata": {},
      "source": [
        "## First load the COVID-19 serum proteomics data using the data library\n\n"
      ]
    },
    {
      "cell_type": "code",
      "execution_count": null,
      "metadata": {
        "collapsed": false
      },
      "outputs": [],
      "source": [
        "from biolearn.data_library import DataLibrary\ndata_source = DataLibrary().get(\"Covid19_Filbin_Plasma\")\ndata = data_source.load()"
      ]
    },
    {
      "cell_type": "markdown",
      "metadata": {},
      "source": [
        "## Now run the organ age clocks on the proteomic data\n\n"
      ]
    },
    {
      "cell_type": "code",
      "execution_count": null,
      "metadata": {
        "collapsed": false
      },
      "outputs": [],
      "source": [
        "from biolearn.model_gallery import ModelGallery\ngallery = ModelGallery()\nchronological_results = gallery.get(\"OrganAge1500Chronological\").predict(data)"
      ]
    },
    {
      "cell_type": "markdown",
      "metadata": {},
      "source": [
        "## Prepare data for visualization\n\n"
      ]
    },
    {
      "cell_type": "code",
      "execution_count": null,
      "metadata": {
        "collapsed": false
      },
      "outputs": [],
      "source": [
        "import pandas as pd\nimport seaborn as sns\nimport matplotlib.pyplot as plt\n\nplot_data_dict = {'age_range': data.metadata['age_range']}\n\nORGANS = ['Organismal', 'Multi-organ', 'Brain', 'Heart', 'Immune']\nfor organ in ORGANS:\n    plot_data_dict[organ] = chronological_results[organ]\n\nplot_data = pd.DataFrame(plot_data_dict)\nplot_data = plot_data.dropna(subset=['age_range'])"
      ]
    },
    {
      "cell_type": "markdown",
      "metadata": {},
      "source": [
        "## Create boxplot visualization\n\n"
      ]
    },
    {
      "cell_type": "code",
      "execution_count": null,
      "metadata": {
        "collapsed": false
      },
      "outputs": [],
      "source": [
        "sns.set_style(\"whitegrid\")\nfig, ax = plt.subplots(figsize=(12, 7))\n\n# Sort age ranges properly\nage_order = sorted(plot_data['age_range'].unique())\n\nplot_data_long = plot_data.melt(\n    id_vars=['age_range'],\n    value_vars=ORGANS,\n    var_name='Organ',\n    value_name='Predicted_Age'\n)\nsns.boxplot(\n    data=plot_data_long,\n    x='age_range',\n    y='Predicted_Age', \n    hue='Organ',\n    order=age_order,\n    ax=ax\n)\n\n\nax.set_xlabel('Chronological Age Range', fontsize=12)\nax.set_ylabel('Predicted Organ Age', fontsize=12)\nax.set_title('Organ Age Predictions by Age Group', fontsize=14)\nax.legend(title='Organ', bbox_to_anchor=(1.05, 1), loc='upper left')\nplt.tight_layout()\nplt.show()"
      ]
    }
  ],
  "metadata": {
    "kernelspec": {
      "display_name": "Python 3",
      "language": "python",
      "name": "python3"
    },
    "language_info": {
      "codemirror_mode": {
        "name": "ipython",
        "version": 3
      },
      "file_extension": ".py",
      "mimetype": "text/x-python",
      "name": "python",
      "nbconvert_exporter": "python",
      "pygments_lexer": "ipython3",
      "version": "3.11.4"
    }
  },
  "nbformat": 4,
  "nbformat_minor": 0
}