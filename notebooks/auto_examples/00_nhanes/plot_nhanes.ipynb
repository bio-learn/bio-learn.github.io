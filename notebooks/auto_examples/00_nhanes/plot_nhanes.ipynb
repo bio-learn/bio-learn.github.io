{
  "cells": [
    {
      "cell_type": "markdown",
      "metadata": {},
      "source": [
        "\n# Plotting survival curves with NHANES data\n\nThis example loads up data from NHANES and demonstrates plotting survival curves \nincluding with a PhenoAge clock\n"
      ]
    },
    {
      "cell_type": "markdown",
      "metadata": {},
      "source": [
        "## Needed imports\n\n"
      ]
    },
    {
      "cell_type": "code",
      "execution_count": null,
      "metadata": {
        "collapsed": false
      },
      "outputs": [],
      "source": [
        "import pandas as pd\nimport numpy as np\nfrom warnings import simplefilter\n\nsimplefilter(action=\"ignore\", category=pd.errors.PerformanceWarning)\nimport matplotlib.pyplot as plt\nfrom lifelines import KaplanMeierFitter\n\nfrom biolearn.load import load_nhanes"
      ]
    },
    {
      "cell_type": "markdown",
      "metadata": {},
      "source": [
        "## Load up data from NHANES\n\n"
      ]
    },
    {
      "cell_type": "code",
      "execution_count": null,
      "metadata": {
        "collapsed": false
      },
      "outputs": [],
      "source": [
        "year = 2010\ndf = load_nhanes(year)\ndf[\"LBXCRP\"] = np.log(df[\"LBXCRP\"])\ndf[\"years_until_death\"] = df[\"months_until_death\"] / 12"
      ]
    },
    {
      "cell_type": "markdown",
      "metadata": {},
      "source": [
        "## Basic survival plot\n\n"
      ]
    },
    {
      "cell_type": "code",
      "execution_count": null,
      "metadata": {
        "collapsed": false
      },
      "outputs": [],
      "source": [
        "T = df.years_until_death\nE = df.is_dead\nkmf = KaplanMeierFitter()\nkmf.fit(T, E)\nkmf.plot()\nplt.ylabel(\"Survival\")\nplt.xlabel(\"Years\")"
      ]
    },
    {
      "cell_type": "markdown",
      "metadata": {},
      "source": [
        "## Plot survival by sex\n\n"
      ]
    },
    {
      "cell_type": "code",
      "execution_count": null,
      "metadata": {
        "collapsed": false
      },
      "outputs": [],
      "source": [
        "ax = plt.subplot()\ngroups = df[\"sex\"]\nix = groups == 2\nkmf.fit(T[ix], E[ix], label=\"Female\")\nax = kmf.plot_survival_function(ax=ax)\nkmf.fit(T[~ix], E[~ix], label=\"Male\")\nax = kmf.plot_survival_function()\nplt.ylabel(\"Survival\")\nplt.xlabel(\"Years\")"
      ]
    },
    {
      "cell_type": "markdown",
      "metadata": {},
      "source": [
        "## Plot survival by glucose level\n\n"
      ]
    },
    {
      "cell_type": "code",
      "execution_count": null,
      "metadata": {
        "collapsed": false
      },
      "outputs": [],
      "source": [
        "ax = plt.subplot()\ngroups = df[\"glucose\"]\nix = groups < 5.5\nkmf.fit(T[ix], E[ix], label=\"glucose\")\nax = kmf.plot_survival_function(ax=ax)\nkmf.fit(T[~ix], E[~ix], label=\"glucose\")\nax = kmf.plot_survival_function()\nplt.ylabel(\"Survival\")\nplt.xlabel(\"Years\")"
      ]
    },
    {
      "cell_type": "markdown",
      "metadata": {},
      "source": [
        "## Calculate \"biological age\" using the phenoage clock\nhttps://www.ncbi.nlm.nih.gov/pmc/articles/PMC5940111/\n\n"
      ]
    },
    {
      "cell_type": "code",
      "execution_count": null,
      "metadata": {
        "collapsed": false
      },
      "outputs": [],
      "source": [
        "pheno_coefs = {\n    \"age\": 0.0804,\n    \"LBDSALSI\": -0.034,\n    \"LBDSCRSI\": 0.0095,\n    \"glucose\": 0.1953,\n    \"LBXCRP\": 0.0954,\n    \"LBXLYPCT\": -0.012,\n    \"LBXMCVSI\": 0.0268,\n    \"LBXRDW\": 0.3356,\n    \"LBXSAPSI\": 0.00188,\n    \"LBXWBCSI\": 0.0554,\n}\n\nconstant = -19.9067\ngamma = 0.0077\ncs = [141.50225, -0.00553, 0.090165]\ndf[\"pheno\"] = df.apply(\n    lambda x: sum([x[c] * pheno_coefs[c] for c in pheno_coefs.keys()]), axis=1\n)\ndf[\"mortality_score\"] = 1 - np.exp(\n    (-np.exp(constant + df[\"pheno\"]) * ((np.exp(120 * gamma) - 1) / gamma))\n)\ndf[\"phenotypic_age\"] = (\n    cs[0] + np.log(cs[1] * np.log(1 - df[\"mortality_score\"])) / cs[2]\n)"
      ]
    },
    {
      "cell_type": "markdown",
      "metadata": {},
      "source": [
        "## Show relation between biological and chronological age\n\n"
      ]
    },
    {
      "cell_type": "code",
      "execution_count": null,
      "metadata": {
        "collapsed": false
      },
      "outputs": [],
      "source": [
        "df.plot.scatter(\"age\", \"phenotypic_age\")"
      ]
    },
    {
      "cell_type": "markdown",
      "metadata": {},
      "source": [
        "## Plot survival curve for people with a biological age younger vs older than chronological\n\n"
      ]
    },
    {
      "cell_type": "code",
      "execution_count": null,
      "metadata": {
        "collapsed": false
      },
      "outputs": [],
      "source": [
        "df[\"biologically_older\"] = df[\"phenotypic_age\"] > df[\"age\"]\nax = plt.subplot()\ngroups = df[\"biologically_older\"]\nix = groups == 0\nkmf.fit(T[ix], E[ix], label=\"Biologically younger\")\nax = kmf.plot_survival_function(ax=ax)\nkmf.fit(T[~ix], E[~ix], label=\"Biologically older\")\nax = kmf.plot_survival_function()\nplt.ylabel(\"Survival\")\nplt.xlabel(\"Years\")"
      ]
    }
  ],
  "metadata": {
    "kernelspec": {
      "display_name": "Python 3",
      "language": "python",
      "name": "python3"
    },
    "language_info": {
      "codemirror_mode": {
        "name": "ipython",
        "version": 3
      },
      "file_extension": ".py",
      "mimetype": "text/x-python",
      "name": "python",
      "nbconvert_exporter": "python",
      "pygments_lexer": "ipython3",
      "version": "3.10.12"
    }
  },
  "nbformat": 4,
  "nbformat_minor": 0
}