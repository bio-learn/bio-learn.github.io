{
  "cells": [
    {
      "cell_type": "markdown",
      "metadata": {},
      "source": [
        "\n# Training an ElasticNet model\n\nThis example shows you how to train a simple elasticnet model and use it to submit to the challenge\n"
      ]
    },
    {
      "cell_type": "markdown",
      "metadata": {},
      "source": [
        "## Loading up the data for the competition\n\n"
      ]
    },
    {
      "cell_type": "code",
      "execution_count": null,
      "metadata": {
        "collapsed": false
      },
      "outputs": [],
      "source": [
        "import pandas as pd\n\n#Download the data file for the warmup challenge linked here https://www.synapse.org/#!Synapse:syn52966292/wiki/625231\nDOWNLOADED_DATA_FILE_PATH=\"ADD YOUR PATH HERE\"\nchallenge_data = pd.read_csv(DOWNLOADED_DATA_FILE_PATH, index_col=0)\nchallenge_data"
      ]
    },
    {
      "cell_type": "markdown",
      "metadata": {},
      "source": [
        "## Load up some training data\n\n"
      ]
    },
    {
      "cell_type": "code",
      "execution_count": null,
      "metadata": {
        "collapsed": false
      },
      "outputs": [],
      "source": [
        "from biolearn.data_library import DataLibrary\ndata = DataLibrary().get(\"GSE40279\").load()\ndata.metadata"
      ]
    },
    {
      "cell_type": "markdown",
      "metadata": {},
      "source": [
        "Narrow down what sites are correlated with age\n --------------------------------------------------------------------------------------------------------------------------\nNOTE: This takes a long time to run\n\n"
      ]
    },
    {
      "cell_type": "code",
      "execution_count": null,
      "metadata": {
        "collapsed": false
      },
      "outputs": [],
      "source": [
        "import numpy as np\nfrom sklearn.linear_model import LinearRegression\n\n# Extract data from your 'data' object\nX = data.dnam.transpose().values  # Transpose to have samples as rows and cpg sites as columns\ny = data.metadata['age'].values\n\n# Parameters for bootstrap and feature selection\nn_bootstrap = 20\nthreshold = 0.05 \n\n# Store count of times each CpG site is deemed significant\ncpg_counts = np.zeros(X.shape[1])\n\n# Begin bootstrap iterations\nfor _ in range(n_bootstrap):\n    # Sample with replacement from X, y\n    sample_idx = np.random.choice(range(X.shape[0]), size=X.shape[0], replace=True)\n    X_sample = X[sample_idx]\n    y_sample = y[sample_idx]\n    \n    # Train model\n    model = LinearRegression()\n    model.fit(X_sample, y_sample)\n    \n    # Identify significant CpG sites (based on magnitude of coefficients)\n    significant_cpgs = np.where(np.abs(model.coef_) > threshold)[0]\n    cpg_counts[significant_cpgs] += 1\n\n# Determine stable CpG sites\nstable_cpg_sites = np.where(cpg_counts > n_bootstrap * 0.6)[0]\nstable_cpg_names = data.dnam.index[stable_cpg_sites].tolist()\n\nprint(f\"Stable CpG sites (associated with age in more than 60% of bootstrap samples): {stable_cpg_sites}\")"
      ]
    },
    {
      "cell_type": "markdown",
      "metadata": {},
      "source": [
        "## Seperate data into training and test sets\n\n"
      ]
    },
    {
      "cell_type": "code",
      "execution_count": null,
      "metadata": {
        "collapsed": false
      },
      "outputs": [],
      "source": [
        "from sklearn.model_selection import train_test_split\n\ndf = data.dnam.transpose()\ndf['age'] = data.metadata['age']\ntop_sites_df = df[stable_cpg_names]\n\nX = top_sites_df\ny = df['age']\n\nX_train, X_test, y_train, y_test = train_test_split(X, y, test_size=0.2, random_state=42)"
      ]
    },
    {
      "cell_type": "markdown",
      "metadata": {},
      "source": [
        "## Train a model using elastic net\nDefine the model\nalpha is the regularization strength, and l1_ratio defines the mix between L1 and L2\nl1_ratio = 1 is Lasso; l1_ratio = 0 is Ridge.\n\n"
      ]
    },
    {
      "cell_type": "code",
      "execution_count": null,
      "metadata": {
        "collapsed": false
      },
      "outputs": [],
      "source": [
        "from sklearn.linear_model import ElasticNet\nfrom sklearn.metrics import mean_squared_error\n\nmodel = ElasticNet(alpha=0.01, l1_ratio=0.3, max_iter=10000)\n# Train the model\nmodel.fit(X_train, y_train)\n\n# Predict and evaluate\ny_pred = model.predict(X_test)\nmse = mean_squared_error(y_test, y_pred)\n\nprint(f\"Mean Squared Error on Test Data: {mse}\")"
      ]
    },
    {
      "cell_type": "markdown",
      "metadata": {},
      "source": [
        "## Plot the results to see how good our model is\n\n"
      ]
    },
    {
      "cell_type": "code",
      "execution_count": null,
      "metadata": {
        "collapsed": false
      },
      "outputs": [],
      "source": [
        "import matplotlib.pyplot as plt\n\ny_pred = model.predict(X_test)\n\nplt.figure(figsize=(10, 8))\nplt.scatter(y_test, y_pred, alpha=0.7, edgecolors='w', linewidth=0.5)\nplt.plot([min(y_test), max(y_test)], [min(y_test), max(y_test)], 'k--', lw=3)  # y=x line for reference\nplt.xlabel('Actual Age')\nplt.ylabel('Predicted Age')\nplt.title('Actual Age vs. Predicted Age')\nplt.grid(True, which='both', linestyle='--', linewidth=0.5)\nplt.show()\n\n# Calculate Mean Squared Error (MSE)\nmse = np.mean((y_test - y_pred) ** 2)\nprint(f\"Mean Squared Error (MSE): {mse:.4f}\")\n\n# Calculate Mean Absolute Error (MAE)\nmae = np.mean(np.abs(y_test - y_pred))\nprint(f\"Mean Absolute Error (MAE): {mae:.4f}\")"
      ]
    },
    {
      "cell_type": "markdown",
      "metadata": {},
      "source": [
        "## Run the challenge data through the model\n\n"
      ]
    },
    {
      "cell_type": "code",
      "execution_count": null,
      "metadata": {
        "collapsed": false
      },
      "outputs": [],
      "source": [
        "pruned_data = challenge_data.T[stable_cpg_names]\npruned_data = pruned_data.fillna(0)\nchallenge_results = model.predict(pruned_data)"
      ]
    },
    {
      "cell_type": "markdown",
      "metadata": {},
      "source": [
        "## Save the results as an output file for submission\n\n"
      ]
    },
    {
      "cell_type": "code",
      "execution_count": null,
      "metadata": {
        "collapsed": false
      },
      "outputs": [],
      "source": [
        "predicted_age_df = pd.DataFrame({\n    'predictedAge': challenge_results\n}, index=challenge_data.columns)\npredicted_age_df.index.name = 'sampleId'\npredicted_age_df"
      ]
    }
  ],
  "metadata": {
    "kernelspec": {
      "display_name": "Python 3",
      "language": "python",
      "name": "python3"
    },
    "language_info": {
      "codemirror_mode": {
        "name": "ipython",
        "version": 3
      },
      "file_extension": ".py",
      "mimetype": "text/x-python",
      "name": "python",
      "nbconvert_exporter": "python",
      "pygments_lexer": "ipython3",
      "version": "3.10.12"
    }
  },
  "nbformat": 4,
  "nbformat_minor": 0
}