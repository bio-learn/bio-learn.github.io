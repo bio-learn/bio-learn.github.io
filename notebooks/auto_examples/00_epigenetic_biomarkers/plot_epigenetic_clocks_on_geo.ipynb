{
  "cells": [
    {
      "cell_type": "markdown",
      "metadata": {},
      "source": [
        "\n# \"Epigenetic Clocks\" in GEO Data\n\nThis example loads a DNA Methylation data from GEO, calculates multiple epigenetic clocks, and plots them against chronological age. \n"
      ]
    },
    {
      "cell_type": "markdown",
      "metadata": {},
      "source": [
        "## First load up some methylation data from GEO using the data library\n\n"
      ]
    },
    {
      "cell_type": "code",
      "execution_count": null,
      "metadata": {
        "collapsed": false
      },
      "outputs": [],
      "source": [
        "from biolearn.data_library import DataLibrary\n#Load up GSE41169 blood DNAm data\ndata_source = DataLibrary().get(\"GSE41169\")\ndata=data_source.load()\n\n#The data has the methylation data as well as metadata for each subject\nmethylation_data = data.dnam"
      ]
    },
    {
      "cell_type": "markdown",
      "metadata": {},
      "source": [
        "## Run a simple imputation to replace missing data using the avearges of measured values\n\n"
      ]
    },
    {
      "cell_type": "code",
      "execution_count": null,
      "metadata": {
        "collapsed": false
      },
      "outputs": [],
      "source": [
        "from biolearn.imputation import impute_from_average\nprepared_data = impute_from_average(methylation_data)"
      ]
    },
    {
      "cell_type": "markdown",
      "metadata": {},
      "source": [
        "## Now run three different clocks on the dataset to produce epigenetic clock ages\n\n"
      ]
    },
    {
      "cell_type": "code",
      "execution_count": null,
      "metadata": {
        "collapsed": false
      },
      "outputs": [],
      "source": [
        "from biolearn.clock import horvathv1, hannum, phenoage\nhorvath_results = horvathv1(prepared_data)\nhannum_results = hannum(prepared_data)\nphenoage_results = phenoage(prepared_data)"
      ]
    },
    {
      "cell_type": "markdown",
      "metadata": {},
      "source": [
        "## Finally exctract the age data from the metadata from GEO and plot the results using seaborn\n\n"
      ]
    },
    {
      "cell_type": "code",
      "execution_count": null,
      "metadata": {
        "collapsed": false
      },
      "outputs": [],
      "source": [
        "import seaborn as sn\nimport pandas as pd\n\nactual_age = data.metadata['age']\nplot_data = pd.DataFrame({\n    'Horvath': horvath_results,\n    'Hannum': hannum_results,\n    'PhenoAge': phenoage_results,\n    \"Age\": actual_age\n})\nplot_data.index=plot_data['Age']\n\nsn.relplot(data=plot_data, kind=\"scatter\");"
      ]
    }
  ],
  "metadata": {
    "kernelspec": {
      "display_name": "Python 3",
      "language": "python",
      "name": "python3"
    },
    "language_info": {
      "codemirror_mode": {
        "name": "ipython",
        "version": 3
      },
      "file_extension": ".py",
      "mimetype": "text/x-python",
      "name": "python",
      "nbconvert_exporter": "python",
      "pygments_lexer": "ipython3",
      "version": "3.10.12"
    }
  },
  "nbformat": 4,
  "nbformat_minor": 0
}