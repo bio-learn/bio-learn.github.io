{
  "cells": [
    {
      "cell_type": "markdown",
      "metadata": {},
      "source": [
        "\n# DNA methylation visualizations using GEO datasets\n\nThis example demonstrates the built-in DNA methylation plotting function to visualize \nDNA methylation against age across datasets in a violin and linear and polynomial regression plots.\n"
      ]
    },
    {
      "cell_type": "markdown",
      "metadata": {},
      "source": [
        "## Import required classes, and functions\n\n"
      ]
    },
    {
      "cell_type": "code",
      "execution_count": null,
      "metadata": {
        "collapsed": false
      },
      "outputs": [],
      "source": [
        "from biolearn.data_library import DataLibrary\nfrom biolearn.visualize import (\n    identify_stable_cpg_sites,\n    compute_age_group_stats,\n    compute_methylation_stats,\n    plot_methylation_by_age_sex,\n    plot_methylation_vs_age\n)"
      ]
    },
    {
      "cell_type": "markdown",
      "metadata": {},
      "source": [
        "## Load GEO methylation dataset(s) and set up objects for visualization function use\n\n"
      ]
    },
    {
      "cell_type": "code",
      "execution_count": null,
      "metadata": {
        "collapsed": false
      },
      "outputs": [],
      "source": [
        "# List dataset IDs\ndataset_ids = [\"GSE112618\", \"GSE110554\", \"GSE41169\", \"GSE52588\"]\n\n# Load datasets into a dictionary of GeoData objects\nlibrary = DataLibrary()\ndatasets = {id: library.get(id).load() for id in dataset_ids}"
      ]
    },
    {
      "cell_type": "markdown",
      "metadata": {},
      "source": [
        "## Identify the top 10 stable CpG sites with low variance for each dataset\n\n"
      ]
    },
    {
      "cell_type": "code",
      "execution_count": null,
      "metadata": {
        "collapsed": false
      },
      "outputs": [],
      "source": [
        "stable_sites = identify_stable_cpg_sites(datasets, threshold=0.01)\nfor dataset in stable_sites:\n    dataset_name = dataset[\"Dataset\"]\n    stable_cpg_sites = dataset[\"Stable CpG Sites\"][:10]\n    print(f\"{dataset_name}: {stable_cpg_sites}\")"
      ]
    },
    {
      "cell_type": "markdown",
      "metadata": {},
      "source": [
        "## Visualize DNA methylation levels by age and sex in a violin plot\n\n"
      ]
    },
    {
      "cell_type": "code",
      "execution_count": null,
      "metadata": {
        "collapsed": false
      },
      "outputs": [],
      "source": [
        "# Initialize an appropriate CpG site\ncpg_site = \"cg00000029\"\n\n# Compute statistics by age group for the specified CpG site\nstats_df, combined_data1 = compute_age_group_stats(datasets, cpg_site, age_bins=5)\n\n# Plot DNA methylation levels by age group and sex across datasets in a violin plot\n# Note: In the datasets, '1' represents Female and '2' represents Male.\nplot_methylation_by_age_sex(combined_data1, cpg_site)"
      ]
    },
    {
      "cell_type": "markdown",
      "metadata": {},
      "source": [
        "## Visualize DNA methylation against age with linear and polynomial regression\n\n"
      ]
    },
    {
      "cell_type": "code",
      "execution_count": null,
      "metadata": {
        "collapsed": false
      },
      "outputs": [],
      "source": [
        "# Compute regression statistics to plot methylation vs. age\ncombined_data2, stats_df = compute_methylation_stats(datasets, cpg_site)\n\n# Plot DNA methylation against age across datasets with linear and polynomial regression lines\nplot_methylation_vs_age(combined_data2, stats_df, cpg_site)"
      ]
    }
  ],
  "metadata": {
    "kernelspec": {
      "display_name": "Python 3",
      "language": "python",
      "name": "python3"
    },
    "language_info": {
      "codemirror_mode": {
        "name": "ipython",
        "version": 3
      },
      "file_extension": ".py",
      "mimetype": "text/x-python",
      "name": "python",
      "nbconvert_exporter": "python",
      "pygments_lexer": "ipython3",
      "version": "3.10.12"
    }
  },
  "nbformat": 4,
  "nbformat_minor": 0
}