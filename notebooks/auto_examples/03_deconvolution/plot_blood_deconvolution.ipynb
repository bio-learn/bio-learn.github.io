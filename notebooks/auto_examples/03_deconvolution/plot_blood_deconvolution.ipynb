{
  "cells": [
    {
      "cell_type": "markdown",
      "metadata": {},
      "source": [
        "\n# \"Deconvolution Example\" \n\nThis example loads blood DNA Methylation data from GEO, estimates the proportion of cell types, and compares them to known cell type proportions. \n"
      ]
    },
    {
      "cell_type": "markdown",
      "metadata": {},
      "source": [
        "## Load GEO blood methylation dataset measured on EPIC platform\n\n"
      ]
    },
    {
      "cell_type": "code",
      "execution_count": null,
      "metadata": {
        "collapsed": false
      },
      "outputs": [],
      "source": [
        "from biolearn.data_library import DataLibrary\n\nepic_facs_salas_18 = DataLibrary().get(\"GSE112618\").load()"
      ]
    },
    {
      "cell_type": "markdown",
      "metadata": {},
      "source": [
        "## Estimate cell proportions using EPIC deconvolution model\n\n"
      ]
    },
    {
      "cell_type": "code",
      "execution_count": null,
      "metadata": {
        "collapsed": false
      },
      "outputs": [],
      "source": [
        "from biolearn.model_gallery import ModelGallery\ngallery = ModelGallery()\n\nepic_facs_cell_prop = gallery.get(\"DeconvoluteBloodEPIC\").predict(epic_facs_salas_18)"
      ]
    },
    {
      "cell_type": "markdown",
      "metadata": {},
      "source": [
        "## Compare to known cell proportions measured with FACS (fluorescence-activated cell sorting)\n\n"
      ]
    },
    {
      "cell_type": "code",
      "execution_count": null,
      "metadata": {
        "collapsed": false
      },
      "outputs": [],
      "source": [
        "import seaborn as sns\nimport matplotlib.pyplot as plt\n\nsns.set_style(\"ticks\")\nplt.figure(figsize = (5, 5))\n\nsns.scatterplot(x = epic_facs_salas_18.metadata.neutrophils_proportion.astype(float), y = epic_facs_cell_prop.loc[\"neutrophil\"])\nsns.scatterplot(x = epic_facs_salas_18.metadata.monocytes_proportion.astype(float), y = epic_facs_cell_prop.loc[\"monocyte\"])\nsns.scatterplot(x = epic_facs_salas_18.metadata.nk_proportion.astype(float), y = epic_facs_cell_prop.loc[\"nk_cell\"])\nsns.scatterplot(x = epic_facs_salas_18.metadata.bcell_proportion.astype(float), y = epic_facs_cell_prop.loc[\"b_cell\"])\nsns.scatterplot(x = epic_facs_salas_18.metadata.cd4t_proportion.astype(float), y = epic_facs_cell_prop.loc[\"cd4_t_cell\"])\nsns.scatterplot(x = epic_facs_salas_18.metadata.cd8t_proportion.astype(float), y = epic_facs_cell_prop.loc[\"cd8_t_cell\"])\n\nplt.legend([\"Neutrophils\", \"Monocytes\", \"NK Cells\", \"B Cells\", \"CD4 T Cells\", \"CD8 T Cells\"])\nplt.xlabel(\"Known cell proportion\")\nplt.ylabel(\"Predicted cell proportion\")\nplt.title(\"Deconvolution Validation - FACS\")"
      ]
    }
  ],
  "metadata": {
    "kernelspec": {
      "display_name": "Python 3",
      "language": "python",
      "name": "python3"
    },
    "language_info": {
      "codemirror_mode": {
        "name": "ipython",
        "version": 3
      },
      "file_extension": ".py",
      "mimetype": "text/x-python",
      "name": "python",
      "nbconvert_exporter": "python",
      "pygments_lexer": "ipython3",
      "version": "3.10.12"
    }
  },
  "nbformat": 4,
  "nbformat_minor": 0
}